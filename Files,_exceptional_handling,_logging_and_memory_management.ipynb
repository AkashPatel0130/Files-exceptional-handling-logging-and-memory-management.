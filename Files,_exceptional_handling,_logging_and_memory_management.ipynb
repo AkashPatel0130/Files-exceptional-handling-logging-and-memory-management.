{
  "nbformat": 4,
  "nbformat_minor": 0,
  "metadata": {
    "colab": {
      "provenance": []
    },
    "kernelspec": {
      "name": "python3",
      "display_name": "Python 3"
    },
    "language_info": {
      "name": "python"
    }
  },
  "cells": [
    {
      "cell_type": "markdown",
      "source": [
        "1). What is the difference between interpreted and compiled languages?\n",
        "- Compiled Languages:-\n",
        "       A compiler translates the entire source code into machine code before the program is run.\n",
        "-Interpreted Languages:-\n",
        "      An interpreter reads the source code line by line and translates it into machine code or another representation during program execution.\n",
        "\n",
        "2). What is exception handling in Python?\n",
        "-  Exception handling allows the program to continue to execute even if an error occurs.\n",
        "\n",
        "3). What is the purpose of the finally block in exception handling?\n",
        "- The finally block lets you execute code, regardless of the result of the try- and except blocks.\n",
        "4). What is logging in Python?\n",
        "- Logging in Python lets you record important information about your program's execution.\n",
        "\n",
        "5).  What is the significance of the __del__ method in Python?\n",
        "- This call allows the object to release external resources and clean itself up.\n",
        "\n",
        "\n",
        "6). What is the difference between import and from ... import in Python?\n",
        "- The difference between import and from import in Python is: import imports an entire code library. from import imports a specific member or members of the library.\n",
        "\n",
        "7).  How can you handle multiple exceptions in Python?\n",
        "-  using multiple catch blocks for different exception types, the multi-catch feature to handle multiple exceptions in a single block, and a catch-all block for general exception handling.\n",
        "\n",
        "8). What is the purpose of the with statement when handling files in Python?\n",
        "- The with statement in Python is used for resource management and exception handling.\n",
        "\n",
        "\n",
        "9). What is the difference between multithreading and multiprocessing?\n",
        "-  Multithreading:-\n",
        "     Multithreading involves running multiple threads within a single process, sharing the same memory space.\n",
        "- Multiprocessing:-\n",
        "     Multiprocessing, on the other hand, utilizes multiple processes, each with its own memory space, allowing for true parallel execution on multi-core processors.\n",
        "\n",
        "11).  What is memory management in Python?\n",
        "-  Memory management is the process of allocation and deallocation of memory resources in a computer system.\n",
        "\n",
        "12). What are the basic steps involved in exception handling in Python?\n",
        "- Exception handling allows you to manage and respond to errors during program execution without crashing your program.\n",
        "\n",
        "13). Why is memory management important in Python?\n",
        "- Without proper memory management, you can face challenges while building these applications, as effective memory allocation is necessary in order to avoid problems that can arise when you run out of memory, such as memory leaks.\n",
        "\n",
        "14). What is the role of try and except in exception handling?\n",
        "- The try block lets you test a block of code for errors. The except block lets you handle the error.\n",
        "\n",
        "15). How does Python's garbage collection system work?\n",
        "- Python's garbage collection system uses a hybrid approach of reference counting and generational garbage collection to manage memory.\n",
        "\n",
        "16). What is the purpose of the else block in exception handling?\n",
        "-  The else block lets you execute code when there is no error.\n",
        "\n",
        "17).  What are the common logging levels in Python?\n",
        "- There are six levels for logging in Python; each level is associated with an integer that indicates the log severity: NOTSET=0, DEBUG=10, INFO=20, WARN=30, ERROR=40, and CRITICAL=50.\n",
        "\n",
        "18). What is the difference between os.fork() and multiprocessing in Python?\n",
        "- os.fork():-\n",
        "            Direct system call that creates a child process by duplicating the current process.\n",
        "            Works only on Unix/Linux systems .\n",
        "            Gives low-level control over process creation.\n",
        "\n",
        "- multiprocessing :-\n",
        "                   High-level API to create and manage independent processes.\n",
        "                   Cross-platform .\n",
        "                   Handles inter-process communication (IPC), synchronization, and process pools.\n",
        "\n",
        "19). What is the importance of closing a file in Python ?\n",
        "- Because files are limited resources managed by the operating system, making sure files are closed after use will protect against hard-to-debug issues like running out of file handles or experiencing corrupted data.\n",
        "\n",
        "20). What is the difference between file.read() and file.readline() in Python?\n",
        "- The `read()` method will read the entire content of the file or stream if no argument is provided, returning a string. On the other hand, the `readline()` method reads a single line up to the newline character (`\\n`) and returns it as a string. If there are no more lines to read, it will return an empty string.\n",
        "\n",
        "21). What is the logging module in Python used for?\n",
        "-  use the built-in logging module to capture logs, which provide insights into application flow, errors, and usage patterns.\n",
        "\n",
        "22). What is the os module in Python used for in file handling?\n",
        "-  In addition to File object returned by open() function, file IO operations can also be performed using Python's built-in library has os module that provides useful operating system dependent functions.\n",
        "\n",
        "\n",
        "23). What are the challenges associated with memory management in Python?\n",
        "-  One of the most common causes of memory leaks in Python is the retention of objects that are no longer being used. This can occur when an object is referenced by another object, but the reference is never removed. As a result, the garbage collector is unable to deallocate the unused object, leading to a memory leak.\n",
        "\n",
        "24). How do you raise an exception manually in Python?\n",
        "- To raise an exception, use the raise keyword.\n",
        "\n",
        "25). Why is it important to use multithreading in certain applications?\n",
        "- Importance of Multithreading are:-\n",
        "         - Improves Responsiveness in I/O-Bound Programs.\n",
        "         - Enables Parallel Tasks Without Blocking the Main Program.\n",
        "         - Better Resource Utilization.\n",
        "         - Useful for Real-Time Applications.\n",
        "\n",
        "\n"
      ],
      "metadata": {
        "id": "vieObH05L0Nb"
      }
    },
    {
      "cell_type": "markdown",
      "source": [
        " ***Practical Questions***\n",
        "\n",
        " 1). How can you open a file for writing in Python and write a string to it?\n"
      ],
      "metadata": {
        "id": "zB0VBzYECVsP"
      }
    },
    {
      "cell_type": "code",
      "source": [
        "with open(\"filename.txt\", \"w\") as file:\n",
        "    file.write(\"Your string goes here\")"
      ],
      "metadata": {
        "id": "of2WGASICTLS"
      },
      "execution_count": 3,
      "outputs": []
    },
    {
      "cell_type": "markdown",
      "source": [
        "2).Write a Python program to read the contents of a file and print each line.\n"
      ],
      "metadata": {
        "id": "H9xr3AQRD6F3"
      }
    },
    {
      "cell_type": "code",
      "execution_count": 6,
      "metadata": {
        "id": "WA8uR2v6Ks-u",
        "colab": {
          "base_uri": "https://localhost:8080/"
        },
        "outputId": "28ffb3e4-d4ac-453b-ac5d-64b4a80e2fd5"
      },
      "outputs": [
        {
          "output_type": "stream",
          "name": "stdout",
          "text": [
            "Hello, this is a test string.\n",
            "Second line of text.\n"
          ]
        }
      ],
      "source": [
        "with open(\"example.txt\", \"r\") as file:\n",
        "    for line in file:\n",
        "        print(line.strip())\n"
      ]
    },
    {
      "cell_type": "markdown",
      "source": [
        "3). How would you handle a case where the file doesn't exist while trying to open it for reading?"
      ],
      "metadata": {
        "id": "HcYVyJL3EooE"
      }
    },
    {
      "cell_type": "code",
      "source": [
        "try:\n",
        "    with open(\"example.txt\", \"r\") as file:\n",
        "        for line in file:\n",
        "            print(line.strip())\n",
        "except FileNotFoundError:\n",
        "    print(\"Error: The file does not exist.\")"
      ],
      "metadata": {
        "colab": {
          "base_uri": "https://localhost:8080/"
        },
        "id": "mXhKw1P4EP2z",
        "outputId": "06ecacd2-10d5-410c-8798-02de31f953a2"
      },
      "execution_count": 7,
      "outputs": [
        {
          "output_type": "stream",
          "name": "stdout",
          "text": [
            "Hello, this is a test string.\n",
            "Second line of text.\n"
          ]
        }
      ]
    },
    {
      "cell_type": "markdown",
      "source": [
        "4). Write a Python script that reads from one file and writes its content to another file?\n"
      ],
      "metadata": {
        "id": "gXCY5I-aFHca"
      }
    },
    {
      "cell_type": "code",
      "source": [
        "try:\n",
        "    with open(\"example.txt\", \"r\") as file:\n",
        "        for line in file:\n",
        "            print(line.strip())\n",
        "except FileNotFoundError:\n",
        "    print(\"Error: The file does not exist.\")"
      ],
      "metadata": {
        "colab": {
          "base_uri": "https://localhost:8080/"
        },
        "id": "LODvw0yVFD00",
        "outputId": "fd7a5ae2-cc8d-4b84-ece4-11aeca293853"
      },
      "execution_count": 8,
      "outputs": [
        {
          "output_type": "stream",
          "name": "stdout",
          "text": [
            "Hello, this is a test string.\n",
            "Second line of text.\n"
          ]
        }
      ]
    },
    {
      "cell_type": "markdown",
      "source": [
        "5). How would you catch and handle division by zero error in Python?"
      ],
      "metadata": {
        "id": "K50gmFCQFhxt"
      }
    },
    {
      "cell_type": "code",
      "source": [
        "try:\n",
        "    numerator = int(input(\"Enter numerator: \"))\n",
        "    denominator = int(input(\"Enter denominator: \"))\n",
        "    result = numerator / denominator\n",
        "    print(f\"Result: {result}\")\n",
        "except ZeroDivisionError:\n",
        "    print(\"Error: Division by zero is not allowed.\")\n"
      ],
      "metadata": {
        "colab": {
          "base_uri": "https://localhost:8080/"
        },
        "id": "BWXiYkHlFcHf",
        "outputId": "dde6a688-d6cd-43df-d8f6-2fefad4fe62e"
      },
      "execution_count": 9,
      "outputs": [
        {
          "output_type": "stream",
          "name": "stdout",
          "text": [
            "Enter numerator: 3\n",
            "Enter denominator: 4\n",
            "Result: 0.75\n"
          ]
        }
      ]
    },
    {
      "cell_type": "markdown",
      "source": [
        "6). Write a Python program that logs an error message to a log file when a division by zero exception occurs?"
      ],
      "metadata": {
        "id": "Seg3lZMXGDf7"
      }
    },
    {
      "cell_type": "code",
      "source": [
        "import logging\n",
        "logging.basicConfig(\n",
        "    filename='error_log.txt',\n",
        "    level=logging.ERROR,\n",
        "    format='%(asctime)s - %(levelname)s - %(message)s'\n",
        ")\n",
        "\n",
        "try:\n",
        "    a = int(input(\"Enter numerator: \"))\n",
        "    b = int(input(\"Enter denominator: \"))\n",
        "    result = a / b\n",
        "    print(\"Result:\", result)\n",
        "\n",
        "except ZeroDivisionError as e:\n",
        "    print(\"Error: Division by zero is not allowed.\")\n",
        "    logging.error(\"Attempted to divide by zero. Details: %s\", e)\n"
      ],
      "metadata": {
        "colab": {
          "base_uri": "https://localhost:8080/"
        },
        "id": "OE4SEr9kF00S",
        "outputId": "1feb1b14-180c-41ea-f1ab-143405b3ad56"
      },
      "execution_count": 11,
      "outputs": [
        {
          "output_type": "stream",
          "name": "stdout",
          "text": [
            "Enter numerator: 10\n",
            "Enter denominator: 20\n",
            "Result: 0.5\n"
          ]
        }
      ]
    },
    {
      "cell_type": "markdown",
      "source": [
        "7). How do you log information at different levels (INFO, ERROR, WARNING) in Python using the logging module?"
      ],
      "metadata": {
        "id": "qP3yOwelGqrL"
      }
    },
    {
      "cell_type": "code",
      "source": [
        "import logging\n",
        "\n",
        "logging.basicConfig(\n",
        "    level=logging.DEBUG,\n",
        "    format='%(asctime)s - %(levelname)s - %(message)s'\n",
        ")\n",
        "logging.debug(\"This is a DEBUG message (useful for debugging).\")\n",
        "logging.info(\"This is an INFO message (general updates).\")\n",
        "logging.warning(\"This is a WARNING message (something might be wrong).\")\n",
        "logging.error(\"This is an ERROR message (something went wrong).\")\n",
        "logging.critical(\"This is a CRITICAL message (serious error).\")\n"
      ],
      "metadata": {
        "id": "Y3DstSzQGBeP"
      },
      "execution_count": 13,
      "outputs": []
    },
    {
      "cell_type": "markdown",
      "source": [
        "8). Write a program to handle a file opening error using exception handling?"
      ],
      "metadata": {
        "id": "fJ0ztI2GHlnu"
      }
    },
    {
      "cell_type": "code",
      "source": [
        "try:\n",
        "    file = open(\"non_existent_file.txt\", \"r\")\n",
        "    contents = file.read()\n",
        "    print(contents)\n",
        "    file.close()\n",
        "\n",
        "except FileNotFoundError:\n",
        "    print(\"Error: The file was not found.\")\n",
        "\n",
        "except IOError:\n",
        "    print(\"Error: An I/O error occurred while opening the file.\")\n"
      ],
      "metadata": {
        "colab": {
          "base_uri": "https://localhost:8080/"
        },
        "id": "t1y0RT3sHBwl",
        "outputId": "1b7061fd-f828-475c-f216-759e9a30df39"
      },
      "execution_count": 15,
      "outputs": [
        {
          "output_type": "stream",
          "name": "stdout",
          "text": [
            "Error: The file was not found.\n"
          ]
        }
      ]
    },
    {
      "cell_type": "markdown",
      "source": [
        "9). How can you read a file line by line and store its content in a list in Python?"
      ],
      "metadata": {
        "id": "_eWdwiknIBEz"
      }
    },
    {
      "cell_type": "code",
      "source": [
        "lines = []\n",
        "with open(\"example.txt\", \"r\") as file:\n",
        "    for line in file:\n",
        "        lines.append(line.strip())  # .strip() removes newline characters\n",
        "\n",
        "print(lines)\n"
      ],
      "metadata": {
        "colab": {
          "base_uri": "https://localhost:8080/"
        },
        "id": "KtEKLNEVHBtN",
        "outputId": "4de2ab7b-991a-4035-d0ee-926143023d50"
      },
      "execution_count": 16,
      "outputs": [
        {
          "output_type": "stream",
          "name": "stdout",
          "text": [
            "['Hello, this is a test string.', 'Second line of text.']\n"
          ]
        }
      ]
    },
    {
      "cell_type": "markdown",
      "source": [
        "10). How can you append data to an existing file in Python?"
      ],
      "metadata": {
        "id": "1uNZgFwWIxlr"
      }
    },
    {
      "cell_type": "code",
      "source": [
        "with open(\"filename.txt\", \"a\") as file:\n",
        "    file.write(\"This is new data that is being appended to the file.\")"
      ],
      "metadata": {
        "id": "F6XCOjuJG6Zr"
      },
      "execution_count": 19,
      "outputs": []
    },
    {
      "cell_type": "markdown",
      "source": [
        "11). Write a Python program that uses a try-except block to handle an error when attempting to access a\n",
        "dictionary key that doesn't exist."
      ],
      "metadata": {
        "id": "J6hBWFrJJd9N"
      }
    },
    {
      "cell_type": "code",
      "source": [
        "my_dict = {\"name\": \"Alice\", \"age\": 25}\n",
        "\n",
        "try:\n",
        "    # Attempt to access a key that might not exist\n",
        "    print(\"City:\", my_dict[\"city\"])\n",
        "except KeyError:\n",
        "    print(\"Error: The key 'city' does not exist in the dictionary.\")\n"
      ],
      "metadata": {
        "colab": {
          "base_uri": "https://localhost:8080/"
        },
        "id": "ZtiUkTSVI-p_",
        "outputId": "ba9c981c-d5b0-4573-8460-29f6af568bbe"
      },
      "execution_count": 22,
      "outputs": [
        {
          "output_type": "stream",
          "name": "stdout",
          "text": [
            "Error: The key 'city' does not exist in the dictionary.\n"
          ]
        }
      ]
    },
    {
      "cell_type": "markdown",
      "source": [
        "12). Write a program that demonstrates using multiple except blocks to handle different types of exceptions?"
      ],
      "metadata": {
        "id": "2B-mpssrJ_vz"
      }
    },
    {
      "cell_type": "code",
      "source": [
        "try:\n",
        "    num1 = int(input(\"Enter first number: \"))\n",
        "    num2 = int(input(\"Enter second number: \"))\n",
        "    result = num1 / num2\n",
        "    print(f\"Result: {result}\")\n",
        "\n",
        "except ValueError:\n",
        "    print(\"Error: Please enter valid integers.\")\n",
        "\n",
        "except ZeroDivisionError:\n",
        "    print(\"Error: Division by zero is not allowed.\")\n",
        "\n",
        "except Exception as e:\n",
        "    print(f\"An unexpected error occurred: {e}\")\n"
      ],
      "metadata": {
        "colab": {
          "base_uri": "https://localhost:8080/"
        },
        "id": "DNkvoGL6JqYi",
        "outputId": "11db7e9f-1145-45c7-e709-4a76c0074223"
      },
      "execution_count": 23,
      "outputs": [
        {
          "output_type": "stream",
          "name": "stdout",
          "text": [
            "Enter first number: 23\n",
            "Enter second number: 56\n",
            "Result: 0.4107142857142857\n"
          ]
        }
      ]
    },
    {
      "cell_type": "markdown",
      "source": [
        "13).How would you check if a file exists before attempting to read it in Python?"
      ],
      "metadata": {
        "id": "sVmtNqDBKPFm"
      }
    },
    {
      "cell_type": "code",
      "source": [
        "import os\n",
        "\n",
        "file_path = \"example.txt\"\n",
        "\n",
        "if os.path.exists(file_path):\n",
        "    with open(file_path, \"r\") as file:\n",
        "        contents = file.read()\n",
        "        print(contents)\n",
        "else:\n",
        "    print(\"File does not exist.\")\n"
      ],
      "metadata": {
        "colab": {
          "base_uri": "https://localhost:8080/"
        },
        "id": "eqvZ2Wh3KG-5",
        "outputId": "696b2384-13e6-4f35-b54a-bd9e67f462c3"
      },
      "execution_count": 24,
      "outputs": [
        {
          "output_type": "stream",
          "name": "stdout",
          "text": [
            "Hello, this is a test string.\n",
            "Second line of text.This line will be added at the end.\n",
            "This line will be added at the end.\n",
            "\n"
          ]
        }
      ]
    },
    {
      "cell_type": "markdown",
      "source": [
        "14).  Write a program that uses the logging module to log both informational and error messages."
      ],
      "metadata": {
        "id": "Oemvb0ytKeqx"
      }
    },
    {
      "cell_type": "code",
      "source": [
        "import logging\n",
        "\n",
        "logging.basicConfig(\n",
        "    filename='app.log',\n",
        "    level=logging.DEBUG,\n",
        "    format='%(asctime)s - %(levelname)s - %(message)s'\n",
        ")\n",
        "\n",
        "logging.info(\"This is an informational message.\")\n",
        "\n",
        "try:\n",
        "    result = 10 / 0\n",
        "except ZeroDivisionError:\n",
        "    logging.error(\"An error occurred: Division by zero.\")\n"
      ],
      "metadata": {
        "colab": {
          "base_uri": "https://localhost:8080/"
        },
        "id": "3U5qjUyFKddK",
        "outputId": "22c6f627-60a4-4025-b406-a4c8720b395e"
      },
      "execution_count": 25,
      "outputs": [
        {
          "output_type": "stream",
          "name": "stderr",
          "text": [
            "ERROR:root:An error occurred: Division by zero.\n"
          ]
        }
      ]
    },
    {
      "cell_type": "markdown",
      "source": [
        "15). Write a Python program that prints the content of a file and handles the case when the file is empty."
      ],
      "metadata": {
        "id": "112ILPjsLR75"
      }
    },
    {
      "cell_type": "code",
      "source": [
        "filename = \"example.txt\"\n",
        "\n",
        "try:\n",
        "    with open(filename, \"r\") as file:\n",
        "        content = file.read()\n",
        "        if content:\n",
        "            print(content)\n",
        "        else:\n",
        "            print(\"The file is empty.\")\n",
        "except FileNotFoundError:\n",
        "    print(f\"Error: The file '{filename}' does not exist.\")"
      ],
      "metadata": {
        "colab": {
          "base_uri": "https://localhost:8080/"
        },
        "id": "aWlE_tpDLEG7",
        "outputId": "e2178a4c-bcd9-464d-f332-f4e960850413"
      },
      "execution_count": 26,
      "outputs": [
        {
          "output_type": "stream",
          "name": "stdout",
          "text": [
            "Hello, this is a test string.\n",
            "Second line of text.This line will be added at the end.\n",
            "This line will be added at the end.\n",
            "\n"
          ]
        }
      ]
    },
    {
      "cell_type": "markdown",
      "source": [
        "17).Write a Python program to create and write a list of numbers to a file, one number per line."
      ],
      "metadata": {
        "id": "I_NF5a-hLgLz"
      }
    },
    {
      "cell_type": "code",
      "source": [
        "numbers = [10, 20, 30, 40, 50]\n",
        "with open(\"numbers.txt\", \"w\") as file:\n",
        "    for number in numbers:\n",
        "        file.write(str(number) + \"\\n\")"
      ],
      "metadata": {
        "id": "s8xDn0W5Lebd"
      },
      "execution_count": 29,
      "outputs": []
    },
    {
      "cell_type": "markdown",
      "source": [
        "18). How would you implement a basic logging setup that logs to a file with rotation after 1MB."
      ],
      "metadata": {
        "id": "HDhNFVugML9L"
      }
    },
    {
      "cell_type": "code",
      "source": [
        "import logging\n",
        "from logging.handlers import RotatingFileHandler\n",
        "\n",
        "logger = logging.getLogger(\"MyLogger\")\n",
        "logger.setLevel(logging.DEBUG)\n",
        "\n",
        "handler = RotatingFileHandler(\n",
        "    \"app.log\", maxBytes=1_000_000, backupCount=3\n",
        ")\n",
        "handler.setLevel(logging.DEBUG)\n",
        "\n",
        "formatter = logging.Formatter('%(asctime)s - %(levelname)s - %(message)s')\n",
        "handler.setFormatter(formatter)\n",
        "\n",
        "logger.addHandler(handler)\n",
        "\n",
        "logger.info(\"This is an info message.\")\n",
        "logger.error(\"This is an error message.\")\n"
      ],
      "metadata": {
        "colab": {
          "base_uri": "https://localhost:8080/"
        },
        "id": "TKmHk3NLL-Q4",
        "outputId": "a51c4ee5-87eb-4a12-f4c9-a82ffac65cf9"
      },
      "execution_count": 30,
      "outputs": [
        {
          "output_type": "stream",
          "name": "stderr",
          "text": [
            "INFO:MyLogger:This is an info message.\n",
            "ERROR:MyLogger:This is an error message.\n"
          ]
        }
      ]
    },
    {
      "cell_type": "markdown",
      "source": [
        "19). Write a program that handles both IndexError and KeyError using a try-except block."
      ],
      "metadata": {
        "id": "xPPmgNvuMosl"
      }
    },
    {
      "cell_type": "code",
      "source": [
        "my_list = [1, 2, 3]\n",
        "my_dict = {\"a\": 10, \"b\": 20}\n",
        "\n",
        "try:\n",
        "    print(my_list[5])\n",
        "\n",
        "    print(my_dict[\"c\"])\n",
        "\n",
        "except IndexError:\n",
        "    print(\"Error: List index out of range.\")\n",
        "\n",
        "except KeyError:\n",
        "    print(\"Error: Key not found in dictionary.\")\n"
      ],
      "metadata": {
        "colab": {
          "base_uri": "https://localhost:8080/"
        },
        "id": "d7PNzKQ-McLi",
        "outputId": "a20f0c60-7425-4aff-c8c2-031dbe3d51cf"
      },
      "execution_count": 31,
      "outputs": [
        {
          "output_type": "stream",
          "name": "stdout",
          "text": [
            "Error: List index out of range.\n"
          ]
        }
      ]
    },
    {
      "cell_type": "markdown",
      "source": [
        "20). How would you open a file and read its contents using a context manager in Python?"
      ],
      "metadata": {
        "id": "ie164St6M10r"
      }
    },
    {
      "cell_type": "code",
      "source": [
        "with open(\"example.txt\", \"r\") as file:\n",
        "    contents = file.read()\n",
        "    print(contents)\n"
      ],
      "metadata": {
        "colab": {
          "base_uri": "https://localhost:8080/"
        },
        "id": "2zSxiqccMzxi",
        "outputId": "513d25a9-50a6-40ce-9eb8-d9fd140804c5"
      },
      "execution_count": 32,
      "outputs": [
        {
          "output_type": "stream",
          "name": "stdout",
          "text": [
            "Hello, this is a test string.\n",
            "Second line of text.This line will be added at the end.\n",
            "This line will be added at the end.\n",
            "\n"
          ]
        }
      ]
    },
    {
      "cell_type": "markdown",
      "source": [
        "21). Write a Python program that reads a fie and prints the number of occurrences of a specific word."
      ],
      "metadata": {
        "id": "t56209YcNLXW"
      }
    },
    {
      "cell_type": "code",
      "source": [
        "def count_word_occurrences(filename, target_word):\n",
        "    try:\n",
        "        with open(filename, 'r') as file:\n",
        "            content = file.read()\n",
        "            words = content.lower().split()\n",
        "            count = words.count(target_word.lower())\n",
        "            print(f\"The word '{target_word}' occurred {count} times in the file.\")\n",
        "    except FileNotFoundError:\n",
        "        print(f\"Error: The file '{filename}' was not found.\")\n",
        "count_word_occurrences(\"example.txt\", \"python\")"
      ],
      "metadata": {
        "colab": {
          "base_uri": "https://localhost:8080/"
        },
        "id": "xDecI_m5NCu6",
        "outputId": "02383613-64a0-4db0-e14a-403670b6e6f2"
      },
      "execution_count": 35,
      "outputs": [
        {
          "output_type": "stream",
          "name": "stdout",
          "text": [
            "The word 'python' occurred 0 times in the file.\n"
          ]
        }
      ]
    },
    {
      "cell_type": "markdown",
      "source": [
        "22). How can you check if a file is empty before attempting to read its contents?"
      ],
      "metadata": {
        "id": "xM6CokTXNkxd"
      }
    },
    {
      "cell_type": "code",
      "source": [
        "import os\n",
        "\n",
        "filename = \"example.txt\"\n",
        "\n",
        "if os.path.exists(filename):\n",
        "    if os.path.getsize(filename) == 0:\n",
        "        print(\"The file is empty.\")\n",
        "    else:\n",
        "        with open(filename, \"r\") as file:\n",
        "            print(file.read())\n",
        "else:\n",
        "    print(\"File does not exist.\")\n"
      ],
      "metadata": {
        "colab": {
          "base_uri": "https://localhost:8080/"
        },
        "id": "Y6fG_64kNW-Q",
        "outputId": "1c5fabde-6332-4a57-bb05-50a0be69eac7"
      },
      "execution_count": 36,
      "outputs": [
        {
          "output_type": "stream",
          "name": "stdout",
          "text": [
            "Hello, this is a test string.\n",
            "Second line of text.This line will be added at the end.\n",
            "This line will be added at the end.\n",
            "\n"
          ]
        }
      ]
    },
    {
      "cell_type": "markdown",
      "source": [
        "23). Write a Python program that writes to a log file when an error occurs during file handling.\n"
      ],
      "metadata": {
        "id": "Epj8qlSvN2yY"
      }
    },
    {
      "cell_type": "code",
      "source": [
        "import logging\n",
        "\n",
        "logging.basicConfig(\n",
        "    filename=\"file_errors.log\",\n",
        "    level=logging.ERROR,\n",
        "    format=\"%(asctime)s - %(levelname)s - %(message)s\"\n",
        ")\n",
        "\n",
        "filename = \"non_existing_file.txt\"\n",
        "\n",
        "try:\n",
        "    with open(filename, \"r\") as file:\n",
        "        content = file.read()\n",
        "        print(content)\n",
        "\n",
        "except FileNotFoundError as e:\n",
        "    logging.error(f\"File not found: {filename} - {e}\")\n",
        "    print(\"An error occurred. Check 'file_errors.log' for details.\")\n",
        "\n",
        "except Exception as e:\n",
        "    logging.error(f\"Unexpected error while handling the file: {e}\")\n",
        "    print(\"An unexpected error occurred.\")\n"
      ],
      "metadata": {
        "colab": {
          "base_uri": "https://localhost:8080/"
        },
        "id": "3QDHHrM9N4Kx",
        "outputId": "6d80d90f-04ae-4f3f-eb11-96cb8fe3b3f9"
      },
      "execution_count": 38,
      "outputs": [
        {
          "output_type": "stream",
          "name": "stderr",
          "text": [
            "ERROR:root:File not found: non_existing_file.txt - [Errno 2] No such file or directory: 'non_existing_file.txt'\n"
          ]
        },
        {
          "output_type": "stream",
          "name": "stdout",
          "text": [
            "An error occurred. Check 'file_errors.log' for details.\n"
          ]
        }
      ]
    }
  ]
}